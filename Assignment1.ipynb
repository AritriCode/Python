{
 "cells": [
  {
   "cell_type": "markdown",
   "id": "0418f738-2919-429a-acdc-8c79d20a8cf2",
   "metadata": {},
   "source": [
    "1)i)"
   ]
  },
  {
   "cell_type": "code",
   "execution_count": 1,
   "id": "67048fc1-bb2f-4ec2-a610-26751ffb01d0",
   "metadata": {},
   "outputs": [],
   "source": [
    "s=str()"
   ]
  },
  {
   "cell_type": "markdown",
   "id": "c24ddb2f-d2a9-4dfd-8443-561ca965dd55",
   "metadata": {},
   "source": [
    "ii)"
   ]
  },
  {
   "cell_type": "code",
   "execution_count": 2,
   "id": "be2120c9-b790-42a5-893e-131f55fc1055",
   "metadata": {},
   "outputs": [],
   "source": [
    "l=[]"
   ]
  },
  {
   "cell_type": "markdown",
   "id": "921c2fb9-2df9-4b73-ad16-67f530bf9c62",
   "metadata": {},
   "source": [
    "iii)"
   ]
  },
  {
   "cell_type": "code",
   "execution_count": 3,
   "id": "39b58dda-3efd-4e4f-8ad3-6e1e47fe0d51",
   "metadata": {},
   "outputs": [],
   "source": [
    "n=float()"
   ]
  },
  {
   "cell_type": "markdown",
   "id": "7dd32329-a2d0-4a87-b74d-0271e403288e",
   "metadata": {},
   "source": [
    "iv)"
   ]
  },
  {
   "cell_type": "code",
   "execution_count": 4,
   "id": "4d7049c9-e044-4ac9-b2e6-4c82c0a1800f",
   "metadata": {},
   "outputs": [],
   "source": [
    "tup=()"
   ]
  },
  {
   "cell_type": "markdown",
   "id": "bbe055cf-7727-493c-9960-da0441642fd7",
   "metadata": {},
   "source": [
    "2)i)"
   ]
  },
  {
   "cell_type": "code",
   "execution_count": 5,
   "id": "ce879fd5-52b8-4d2e-93cf-2586a0618ce8",
   "metadata": {},
   "outputs": [],
   "source": [
    "var1 = ' '"
   ]
  },
  {
   "cell_type": "code",
   "execution_count": 6,
   "id": "2f604b70-dfd3-4016-8dcc-e7873eea7ef6",
   "metadata": {},
   "outputs": [
    {
     "data": {
      "text/plain": [
       "str"
      ]
     },
     "execution_count": 6,
     "metadata": {},
     "output_type": "execute_result"
    }
   ],
   "source": [
    "type(var1)"
   ]
  },
  {
   "cell_type": "markdown",
   "id": "86e96078-5fe1-4d1e-98b3-c851d36df262",
   "metadata": {},
   "source": [
    "ii)"
   ]
  },
  {
   "cell_type": "code",
   "execution_count": 7,
   "id": "56945c25-963e-4260-99a7-c81043c2c528",
   "metadata": {},
   "outputs": [],
   "source": [
    "var2 = '[ DS , ML , Python]'"
   ]
  },
  {
   "cell_type": "code",
   "execution_count": 8,
   "id": "5a0f66c8-e2ef-45f4-8cee-9cc163fb8c57",
   "metadata": {},
   "outputs": [
    {
     "data": {
      "text/plain": [
       "str"
      ]
     },
     "execution_count": 8,
     "metadata": {},
     "output_type": "execute_result"
    }
   ],
   "source": [
    "type(var2)"
   ]
  },
  {
   "cell_type": "markdown",
   "id": "d4a62728-a199-45d4-b066-182256a522f5",
   "metadata": {},
   "source": [
    "iii)"
   ]
  },
  {
   "cell_type": "code",
   "execution_count": 9,
   "id": "e98cc2c6-b62d-432f-861b-832e731c7143",
   "metadata": {},
   "outputs": [],
   "source": [
    "var3 = [ 'DS' , 'ML' , 'Python' ]"
   ]
  },
  {
   "cell_type": "code",
   "execution_count": 10,
   "id": "989ec5f7-d32d-4b53-843a-e772186bb014",
   "metadata": {},
   "outputs": [
    {
     "data": {
      "text/plain": [
       "list"
      ]
     },
     "execution_count": 10,
     "metadata": {},
     "output_type": "execute_result"
    }
   ],
   "source": [
    "type(var3)"
   ]
  },
  {
   "cell_type": "markdown",
   "id": "263cce76-10c3-4c0b-bd99-1ef9a930198d",
   "metadata": {},
   "source": [
    "iv)"
   ]
  },
  {
   "cell_type": "code",
   "execution_count": 11,
   "id": "f12b905d-fb78-4a61-a30e-fd52442eb645",
   "metadata": {},
   "outputs": [],
   "source": [
    "var4 = 1"
   ]
  },
  {
   "cell_type": "code",
   "execution_count": 12,
   "id": "0be6b974-18b7-4923-8fa2-949766b5085c",
   "metadata": {},
   "outputs": [
    {
     "data": {
      "text/plain": [
       "int"
      ]
     },
     "execution_count": 12,
     "metadata": {},
     "output_type": "execute_result"
    }
   ],
   "source": [
    "type(var4)"
   ]
  },
  {
   "cell_type": "markdown",
   "id": "f3ffce06-b65e-435e-8e5f-ad40c3a93d8e",
   "metadata": {},
   "source": [
    "3)i)"
   ]
  },
  {
   "cell_type": "markdown",
   "id": "b9786b76-aeb1-45e2-8be7-01d6b3a0b6cd",
   "metadata": {},
   "source": [
    "This operator is used for division. For eg."
   ]
  },
  {
   "cell_type": "code",
   "execution_count": 13,
   "id": "7afa9eb0-35db-4e2f-9cc1-b0177c075b49",
   "metadata": {},
   "outputs": [
    {
     "data": {
      "text/plain": [
       "1.3333333333333333"
      ]
     },
     "execution_count": 13,
     "metadata": {},
     "output_type": "execute_result"
    }
   ],
   "source": [
    "4/3"
   ]
  },
  {
   "cell_type": "markdown",
   "id": "e39d0e9a-a4e3-438f-b34b-a359160ad22d",
   "metadata": {},
   "source": [
    "ii)"
   ]
  },
  {
   "cell_type": "markdown",
   "id": "7d1317e7-7b53-4761-81d2-da9ba999e8d6",
   "metadata": {},
   "source": [
    "This operator is used for finding the remainder on dividing two numbers. For eg."
   ]
  },
  {
   "cell_type": "code",
   "execution_count": 14,
   "id": "372bb354-1853-4d81-91af-a05a7ae67579",
   "metadata": {},
   "outputs": [
    {
     "data": {
      "text/plain": [
       "2"
      ]
     },
     "execution_count": 14,
     "metadata": {},
     "output_type": "execute_result"
    }
   ],
   "source": [
    "5%3"
   ]
  },
  {
   "cell_type": "markdown",
   "id": "4221d3fe-c0ad-465a-bd82-b1c36187b7d6",
   "metadata": {},
   "source": [
    "iii)"
   ]
  },
  {
   "cell_type": "markdown",
   "id": "c74c6094-876f-4058-9bf4-9203644acc58",
   "metadata": {},
   "source": [
    "This operator is used for integer division. For eg."
   ]
  },
  {
   "cell_type": "code",
   "execution_count": 15,
   "id": "86a0c338-edf0-49fb-9bf9-c7fc9bdc6faf",
   "metadata": {},
   "outputs": [
    {
     "data": {
      "text/plain": [
       "1"
      ]
     },
     "execution_count": 15,
     "metadata": {},
     "output_type": "execute_result"
    }
   ],
   "source": [
    "4//3"
   ]
  },
  {
   "cell_type": "markdown",
   "id": "bb4739a8-405f-4b17-87d3-6964310acd3b",
   "metadata": {},
   "source": [
    "iv)"
   ]
  },
  {
   "cell_type": "markdown",
   "id": "34fe591d-6292-4aa7-a837-8099ea3aed93",
   "metadata": {},
   "source": [
    "This operator is used for finding powers. For eg."
   ]
  },
  {
   "cell_type": "code",
   "execution_count": 16,
   "id": "9c5f9bdb-c466-4963-bf5f-a1be6d18647b",
   "metadata": {},
   "outputs": [
    {
     "data": {
      "text/plain": [
       "8"
      ]
     },
     "execution_count": 16,
     "metadata": {},
     "output_type": "execute_result"
    }
   ],
   "source": [
    "2**3"
   ]
  },
  {
   "cell_type": "markdown",
   "id": "49a0a9d6-da0b-4cb2-88c5-a09d1e750455",
   "metadata": {},
   "source": [
    "4)"
   ]
  },
  {
   "cell_type": "code",
   "execution_count": 17,
   "id": "b0009c47-0b32-4f9a-9d1e-51dffd7957e3",
   "metadata": {},
   "outputs": [
    {
     "name": "stdout",
     "output_type": "stream",
     "text": [
      "1 <class 'int'>\n",
      "ar <class 'str'>\n",
      "5.6 <class 'float'>\n",
      "b <class 'str'>\n",
      "[7, 8, 9] <class 'list'>\n",
      "('ab', 'cd', 'e') <class 'tuple'>\n",
      "8 <class 'int'>\n",
      "9.5 <class 'float'>\n",
      "[0, 'ab'] <class 'list'>\n",
      "(7, 9) <class 'tuple'>\n"
     ]
    }
   ],
   "source": [
    "a=[1,'ar',5.6,'b',[7,8,9],('ab','cd','e'),8,9.5,[0,'ab'],(7,9)]\n",
    "for x in range(len(a)):\n",
    "    print (a[x],type(a[x]))"
   ]
  },
  {
   "cell_type": "markdown",
   "id": "ad3232a5-c5cf-4f96-8a18-0ac33b8bb6c8",
   "metadata": {},
   "source": [
    "5)"
   ]
  },
  {
   "cell_type": "code",
   "execution_count": null,
   "id": "884db1f3-563c-40c9-908a-6c9fb5ab43a8",
   "metadata": {},
   "outputs": [],
   "source": [
    "A=18\n",
    "B=2\n",
    "while (B<=A):\n",
    "    if(A%B==0):\n",
    "        res=A//B\n",
    "    else:\n",
    "        print(\"not divisible\")\n",
    "print(res)"
   ]
  },
  {
   "cell_type": "markdown",
   "id": "62816943-d3fd-4e02-8e79-eb95e8fe8f81",
   "metadata": {},
   "source": [
    "6)"
   ]
  },
  {
   "cell_type": "code",
   "execution_count": null,
   "id": "2f3b79cf-cf0f-486e-855c-084e3450b9be",
   "metadata": {},
   "outputs": [],
   "source": [
    "l=[1,2,3,4,5,6,7,8,9,10,11,12,13,14,15,16,17,18,19,20,21,22,23,24,25]\n",
    "for i in range(len(l)):\n",
    "    if l[i]%3==0:\n",
    "        print(\"divisble\")\n",
    "    else:\n",
    "        print(\"not divisible\")"
   ]
  },
  {
   "cell_type": "markdown",
   "id": "60e8f420-8f34-4170-a8f0-69deddb4193c",
   "metadata": {},
   "source": [
    "7)"
   ]
  },
  {
   "cell_type": "markdown",
   "id": "98e09adf-1da8-4f0b-940c-ceef4bdddefc",
   "metadata": {},
   "source": [
    "A mutable object can be changed after it is created. For eg. a list is mutable:"
   ]
  },
  {
   "cell_type": "code",
   "execution_count": null,
   "id": "e319433e-c35f-4f8f-ba9b-efb1637a5e2b",
   "metadata": {},
   "outputs": [],
   "source": [
    "l=[6,7,8]"
   ]
  },
  {
   "cell_type": "code",
   "execution_count": null,
   "id": "954ff068-20aa-4863-83d7-f0b2c917da99",
   "metadata": {},
   "outputs": [],
   "source": [
    "l[1]=10"
   ]
  },
  {
   "cell_type": "code",
   "execution_count": null,
   "id": "c6b06d44-f71c-4dea-a018-a91d4da68352",
   "metadata": {},
   "outputs": [],
   "source": [
    "l"
   ]
  },
  {
   "cell_type": "markdown",
   "id": "077c7b54-85c2-42d9-b5d9-2e45c30922f8",
   "metadata": {},
   "source": [
    "An immutable object cannot be changed after it is created. For eg. a string is immutable:"
   ]
  },
  {
   "cell_type": "code",
   "execution_count": null,
   "id": "2ec5f220-d9f9-486e-b51e-62d14117da6c",
   "metadata": {},
   "outputs": [],
   "source": [
    "str='this'"
   ]
  },
  {
   "cell_type": "code",
   "execution_count": null,
   "id": "aef99865-2dce-4d01-8ad2-a6823c06f9fe",
   "metadata": {},
   "outputs": [],
   "source": [
    "str[2]='o'"
   ]
  },
  {
   "cell_type": "code",
   "execution_count": null,
   "id": "d1db398e-1749-4ba4-a2e4-c25d1a3f3c0e",
   "metadata": {},
   "outputs": [],
   "source": []
  }
 ],
 "metadata": {
  "kernelspec": {
   "display_name": "Python 3 (ipykernel)",
   "language": "python",
   "name": "python3"
  },
  "language_info": {
   "codemirror_mode": {
    "name": "ipython",
    "version": 3
   },
   "file_extension": ".py",
   "mimetype": "text/x-python",
   "name": "python",
   "nbconvert_exporter": "python",
   "pygments_lexer": "ipython3",
   "version": "3.10.8"
  }
 },
 "nbformat": 4,
 "nbformat_minor": 5
}
