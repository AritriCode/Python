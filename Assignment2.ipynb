{
 "cells": [
  {
   "cell_type": "markdown",
   "id": "cdf880df-96b0-4486-b9c5-0ea4d204c9f7",
   "metadata": {},
   "source": [
    "1)"
   ]
  },
  {
   "cell_type": "markdown",
   "id": "e75d834e-c220-4c67-bc1a-890bb357a3eb",
   "metadata": {},
   "source": [
    "Comments in Python are identified with a hash symbol, #, and extend to the end of the line. Hash characters in a string are not considered comments, however. There are three ways to write a comment - as a separate line, beside the corresponding statement of code, or as a multi-line comment block."
   ]
  },
  {
   "cell_type": "markdown",
   "id": "44582b57-60fe-4bbe-92d0-3816c7951026",
   "metadata": {},
   "source": [
    "2)"
   ]
  },
  {
   "cell_type": "markdown",
   "id": "05817f06-0520-4c25-9408-fb16560ef436",
   "metadata": {},
   "source": [
    "A variable is a string of characters and numbers associated with a piece of information. The assignment operator, denoted by the “=” symbol, is the operator that is used to assign values to variables in Python. The line x=1 takes the known value, 1, and assigns that value to the variable with name “x”."
   ]
  },
  {
   "cell_type": "markdown",
   "id": "f99dcb8a-3635-4dab-b8e9-7d7a236b3db9",
   "metadata": {},
   "source": [
    "3)"
   ]
  },
  {
   "cell_type": "markdown",
   "id": "148c7a1a-94f1-4a50-8590-48d5dea32845",
   "metadata": {},
   "source": [
    "To convert between types, we simply use the type name as a function. There are several built-in functions to perform conversion from one data type to another. These functions return a new object representing the converted value."
   ]
  },
  {
   "cell_type": "markdown",
   "id": "359ecdad-a7b3-44ed-b209-599e823ff3f6",
   "metadata": {},
   "source": [
    "4)"
   ]
  },
  {
   "cell_type": "markdown",
   "id": "f8d9a287-bcd8-4896-bb82-93ae35b8f1e4",
   "metadata": {},
   "source": [
    "The most basic and easy way to run a Python script is by using the python command. We need to open a command line and type the word python followed by the path to our script file like this: python first_script.py Hello World! Then we hit the ENTER button from the keyboard."
   ]
  },
  {
   "cell_type": "markdown",
   "id": "c88d13ec-9c3d-4455-add7-a450748bb4db",
   "metadata": {},
   "source": [
    "5)"
   ]
  },
  {
   "cell_type": "code",
   "execution_count": 1,
   "id": "19a08b98-8bf8-4146-b9fa-6392cf49f180",
   "metadata": {},
   "outputs": [
    {
     "name": "stdout",
     "output_type": "stream",
     "text": [
      "[2, 3]\n"
     ]
    }
   ],
   "source": [
    "my_list = [1, 2, 3, 4, 5]\n",
    "print(my_list[1:3])"
   ]
  },
  {
   "cell_type": "markdown",
   "id": "6b1afc60-dfa6-40a3-bc0c-03018edd15a9",
   "metadata": {},
   "source": [
    "6)"
   ]
  },
  {
   "cell_type": "markdown",
   "id": "b73b5e77-ed4e-4eb8-8c7d-fc3537a53c0e",
   "metadata": {},
   "source": [
    " It is written in the form of (x + yj) where x and y are real numbers and j is an imaginary number which is the square root of -1."
   ]
  },
  {
   "cell_type": "markdown",
   "id": "5a2d4666-8c8c-4062-8b80-f10dd23b7bc5",
   "metadata": {},
   "source": [
    "7)"
   ]
  },
  {
   "cell_type": "code",
   "execution_count": 2,
   "id": "0ea3881a-3993-4d1f-9429-24a0c131d06c",
   "metadata": {},
   "outputs": [],
   "source": [
    "age=25"
   ]
  },
  {
   "cell_type": "markdown",
   "id": "448860b4-fe36-4791-a896-45ca879faaab",
   "metadata": {},
   "source": [
    "8)"
   ]
  },
  {
   "cell_type": "code",
   "execution_count": 3,
   "id": "c1c5ad99-ae5b-494b-9c53-32fd64f9e937",
   "metadata": {},
   "outputs": [
    {
     "name": "stdout",
     "output_type": "stream",
     "text": [
      "<class 'float'>\n"
     ]
    }
   ],
   "source": [
    "price=9.99\n",
    "print(type(price))"
   ]
  },
  {
   "cell_type": "markdown",
   "id": "5f1b82b7-72a9-4bae-ba1d-466e9e0c7aa5",
   "metadata": {},
   "source": [
    "9)"
   ]
  },
  {
   "cell_type": "code",
   "execution_count": 5,
   "id": "20e1d238-5660-43f6-8e2e-16e02a303f87",
   "metadata": {},
   "outputs": [
    {
     "name": "stdout",
     "output_type": "stream",
     "text": [
      "Aritri Sarkar\n"
     ]
    }
   ],
   "source": [
    "name=\"Aritri Sarkar\"\n",
    "print(name)"
   ]
  },
  {
   "cell_type": "markdown",
   "id": "c0548c87-0e3a-4942-8e0c-b61eaaed73f2",
   "metadata": {},
   "source": [
    "10)"
   ]
  },
  {
   "cell_type": "code",
   "execution_count": 6,
   "id": "23f6df17-33a9-4b63-9878-ff3c25aee37d",
   "metadata": {},
   "outputs": [
    {
     "name": "stdout",
     "output_type": "stream",
     "text": [
      "World\n"
     ]
    }
   ],
   "source": [
    "a=\"Hello, World!\"\n",
    "print(a[7:12])"
   ]
  },
  {
   "cell_type": "markdown",
   "id": "fa988193-f1ec-4441-9a36-8ee59bce9328",
   "metadata": {},
   "source": [
    "11)"
   ]
  },
  {
   "cell_type": "code",
   "execution_count": 7,
   "id": "056327a2-3dee-4d7a-975e-669e5bc5df5c",
   "metadata": {},
   "outputs": [],
   "source": [
    "is_name=True"
   ]
  },
  {
   "cell_type": "code",
   "execution_count": null,
   "id": "d85986bf-b5dc-4806-9f6d-b35946ae87eb",
   "metadata": {},
   "outputs": [],
   "source": []
  }
 ],
 "metadata": {
  "kernelspec": {
   "display_name": "Python 3 (ipykernel)",
   "language": "python",
   "name": "python3"
  },
  "language_info": {
   "codemirror_mode": {
    "name": "ipython",
    "version": 3
   },
   "file_extension": ".py",
   "mimetype": "text/x-python",
   "name": "python",
   "nbconvert_exporter": "python",
   "pygments_lexer": "ipython3",
   "version": "3.10.8"
  }
 },
 "nbformat": 4,
 "nbformat_minor": 5
}
