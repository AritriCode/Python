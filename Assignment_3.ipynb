{
 "cells": [
  {
   "cell_type": "markdown",
   "id": "cf3889e8-c390-4d7f-9fde-699934c48fdb",
   "metadata": {},
   "source": [
    "1)"
   ]
  },
  {
   "cell_type": "markdown",
   "id": "640bc97e-204d-4c82-ba17-1878d10e3098",
   "metadata": {},
   "source": [
    "The def keyword is used to create a function."
   ]
  },
  {
   "cell_type": "code",
   "execution_count": 2,
   "id": "eaa244f8-9c2e-435c-9fe2-eeff0e651dba",
   "metadata": {},
   "outputs": [],
   "source": [
    "def odd():\n",
    "    for i in range(26):\n",
    "        if i%2!=0:\n",
    "            print(i)"
   ]
  },
  {
   "cell_type": "code",
   "execution_count": 3,
   "id": "fb0dd73f-21fc-446e-b445-3cfe03e02a49",
   "metadata": {},
   "outputs": [
    {
     "name": "stdout",
     "output_type": "stream",
     "text": [
      "1\n",
      "3\n",
      "5\n",
      "7\n",
      "9\n",
      "11\n",
      "13\n",
      "15\n",
      "17\n",
      "19\n",
      "21\n",
      "23\n",
      "25\n"
     ]
    }
   ],
   "source": [
    "odd()"
   ]
  },
  {
   "cell_type": "markdown",
   "id": "a7fd29fd-f196-4c16-adcb-016ba6d0edb2",
   "metadata": {},
   "source": [
    "2)"
   ]
  },
  {
   "cell_type": "markdown",
   "id": "f2630007-3d5d-457f-998c-baa39b49ac34",
   "metadata": {},
   "source": [
    "We can use *args and **kwargs as arguments of a function when you are unsure about the number of arguments to pass in the functions.The special syntax **kwargs in function definitions in python is used to pass a keyworded, variable-length argument list."
   ]
  },
  {
   "cell_type": "code",
   "execution_count": 4,
   "id": "6418d827-5ae2-45c9-9863-215d15d73ecc",
   "metadata": {},
   "outputs": [
    {
     "name": "stdout",
     "output_type": "stream",
     "text": [
      "Hello\n",
      "Welcome\n",
      "Hi\n"
     ]
    }
   ],
   "source": [
    "def myFun(*argv):\n",
    "\tfor arg in argv:\n",
    "\t\tprint(arg)\n",
    "\n",
    "\n",
    "myFun('Hello', 'Welcome', 'Hi')\n"
   ]
  },
  {
   "cell_type": "code",
   "execution_count": 5,
   "id": "8d20266f-2e02-4f85-b70d-04f4ab8416d4",
   "metadata": {},
   "outputs": [
    {
     "name": "stdout",
     "output_type": "stream",
     "text": [
      "first == Hi\n",
      "mid == Hello\n",
      "last == Code\n"
     ]
    }
   ],
   "source": [
    "def myFun(**kwargs):\n",
    "\tfor key, value in kwargs.items():\n",
    "\t\tprint(\"%s == %s\" % (key, value))\n",
    "\n",
    "\n",
    "\n",
    "myFun(first='Hi', mid='Hello', last='Code')\n"
   ]
  },
  {
   "cell_type": "markdown",
   "id": "b457e399-2cbf-4faf-b9dc-975556d79bab",
   "metadata": {},
   "source": [
    "3)"
   ]
  },
  {
   "cell_type": "markdown",
   "id": "a9f6762e-7fcc-4991-8d53-7467ca1e27f5",
   "metadata": {},
   "source": [
    "In Python, an iterator is an object that allows you to iterate over collections of data, such as lists, tuples, dictionaries, and sets.\n",
    "Iter() method is used to initialize the iterator object so that the instance of this object can be used for iterating."
   ]
  },
  {
   "cell_type": "code",
   "execution_count": 7,
   "id": "3f67f825-49df-43f3-b254-5cf53d3ab7c2",
   "metadata": {},
   "outputs": [
    {
     "name": "stdout",
     "output_type": "stream",
     "text": [
      "2\n",
      "4\n",
      "6\n",
      "8\n",
      "10\n"
     ]
    }
   ],
   "source": [
    "l= [2, 4, 6, 8, 10, 12, 14,16, 18, 20]\n",
    "li=iter(l)\n",
    "print(next(li))\n",
    "print(next(li))\n",
    "print(next(li))\n",
    "print(next(li))\n",
    "print(next(li))"
   ]
  },
  {
   "cell_type": "markdown",
   "id": "e128e264-bd3e-442f-aa21-0a8d33c599d7",
   "metadata": {},
   "source": [
    "4)"
   ]
  },
  {
   "cell_type": "markdown",
   "id": "e09ce8dc-9910-4283-bd44-3a78b9560ffa",
   "metadata": {},
   "source": [
    "A Python generator function allows us to declare a function that behaves like an iterator, providing a faster and easier way to create iterators.\n",
    "The yield keyword will convert an expression that is specified along with it to a generator object and return it to the caller.\n"
   ]
  },
  {
   "cell_type": "code",
   "execution_count": 8,
   "id": "040e48d1-b29b-43a1-a6ee-998459b923d6",
   "metadata": {},
   "outputs": [
    {
     "name": "stdout",
     "output_type": "stream",
     "text": [
      "0\n",
      "1\n",
      "4\n",
      "9\n",
      "16\n"
     ]
    }
   ],
   "source": [
    "\n",
    "squares_generator = (i * i for i in range(5))\n",
    "\n",
    "\n",
    "for i in squares_generator:\n",
    "    print(i)"
   ]
  },
  {
   "cell_type": "markdown",
   "id": "68a8b787-9f63-480c-ad6e-13fb949e93d1",
   "metadata": {},
   "source": [
    "5)"
   ]
  },
  {
   "cell_type": "code",
   "execution_count": 34,
   "id": "566da541-0cd4-46a4-8ad2-2fde7e8dc3fd",
   "metadata": {},
   "outputs": [
    {
     "name": "stdout",
     "output_type": "stream",
     "text": [
      "2\n",
      "3\n",
      "5\n",
      "7\n",
      "11\n",
      "13\n",
      "17\n",
      "19\n",
      "23\n",
      "29\n",
      "31\n",
      "37\n",
      "41\n",
      "43\n",
      "47\n",
      "53\n",
      "59\n",
      "61\n",
      "67\n",
      "71\n"
     ]
    }
   ],
   "source": [
    "def prime(x, y):\n",
    "\tprime_list = []\n",
    "\tfor i in range(x, y):\n",
    "\t\tif i == 0 or i == 1:\n",
    "\t\t\tcontinue\n",
    "\t\telse:\n",
    "\t\t\tfor j in range(2, int(i/2)+1):\n",
    "\t\t\t\tif i % j == 0:\n",
    "\t\t\t\t\tbreak\n",
    "\t\t\telse:\n",
    "\t\t\t\tprime_list.append(i)\n",
    "\treturn prime_list\n",
    "\n",
    "\n",
    "starting_range = 2\n",
    "ending_range = 1000\n",
    "lst = prime(starting_range, ending_range)\n",
    "li=iter(lst)\n",
    "for i in range(20):\n",
    "    print(next(li))\n"
   ]
  },
  {
   "cell_type": "markdown",
   "id": "0ae2d4bd-0c34-42ea-bac4-8ed46b9dca70",
   "metadata": {},
   "source": [
    "6)"
   ]
  },
  {
   "cell_type": "code",
   "execution_count": 36,
   "id": "9c03f30f-69f6-41bc-a185-2a2ebe6f330e",
   "metadata": {},
   "outputs": [
    {
     "name": "stdin",
     "output_type": "stream",
     "text": [
      "How many terms?  10\n"
     ]
    },
    {
     "name": "stdout",
     "output_type": "stream",
     "text": [
      "Fibonacci sequence:\n",
      "0\n",
      "1\n",
      "1\n",
      "2\n",
      "3\n",
      "5\n",
      "8\n",
      "13\n",
      "21\n",
      "34\n"
     ]
    }
   ],
   "source": [
    "\n",
    "\n",
    "nterms = int(input(\"How many terms? \"))\n",
    "\n",
    "\n",
    "n1, n2 = 0, 1\n",
    "count = 0\n",
    "\n",
    "\n",
    "if nterms <= 0:\n",
    "   print(\"Please enter a positive integer\")\n",
    "\n",
    "elif nterms == 1:\n",
    "   print(\"Fibonacci sequence upto\",nterms,\":\")\n",
    "   print(n1)\n",
    "\n",
    "else:\n",
    "   print(\"Fibonacci sequence:\")\n",
    "   while count < nterms:\n",
    "       print(n1)\n",
    "       nth = n1 + n2\n",
    "      \n",
    "       n1 = n2\n",
    "       n2 = nth\n",
    "       count += 1"
   ]
  },
  {
   "cell_type": "markdown",
   "id": "6509543d-3062-445d-b368-a0ad079f2b07",
   "metadata": {},
   "source": [
    "7)"
   ]
  },
  {
   "cell_type": "code",
   "execution_count": 39,
   "id": "63d44563-42bc-48f3-ab88-403c7bed549f",
   "metadata": {},
   "outputs": [
    {
     "name": "stdout",
     "output_type": "stream",
     "text": [
      "['p', 'w', 's', 'k', 'i', 'l', 'l', 's']\n"
     ]
    }
   ],
   "source": [
    "s=\"pwskills\"\n",
    "s1=list(s)\n",
    "print(s1)"
   ]
  },
  {
   "cell_type": "markdown",
   "id": "62233302-4fda-4615-b2ab-90ec953e48fd",
   "metadata": {},
   "source": [
    "8)"
   ]
  },
  {
   "cell_type": "code",
   "execution_count": null,
   "id": "46e3f1bc-2f45-4d2a-8203-a9bb752c766b",
   "metadata": {},
   "outputs": [],
   "source": [
    "num=int(input(\"Enter a number:\"))\n",
    "temp=num\n",
    "rev=0\n",
    "while(num>0):\n",
    "    dig=num%10\n",
    "    rev=rev*10+dig\n",
    "    num=num//10\n",
    "if(temp==rev):\n",
    "    print(\"The number is palindrome!\")\n",
    "else:\n",
    "    print(\"Not a palindrome!\")"
   ]
  },
  {
   "cell_type": "markdown",
   "id": "b871125f-ee23-49dd-98c7-e0151869fb17",
   "metadata": {},
   "source": [
    "9)"
   ]
  },
  {
   "cell_type": "code",
   "execution_count": null,
   "id": "6ad323d8-1c2c-4eb7-8a88-231cf6ec29ef",
   "metadata": {},
   "outputs": [],
   "source": [
    "odd_list = [element for element in range(1, 101) if element % 2 == 1 ]\n",
    "print(odd_list)"
   ]
  },
  {
   "cell_type": "code",
   "execution_count": null,
   "id": "4e3d396e-92f6-493e-bf09-99370f8edbaf",
   "metadata": {},
   "outputs": [],
   "source": []
  }
 ],
 "metadata": {
  "kernelspec": {
   "display_name": "Python 3 (ipykernel)",
   "language": "python",
   "name": "python3"
  },
  "language_info": {
   "codemirror_mode": {
    "name": "ipython",
    "version": 3
   },
   "file_extension": ".py",
   "mimetype": "text/x-python",
   "name": "python",
   "nbconvert_exporter": "python",
   "pygments_lexer": "ipython3",
   "version": "3.10.8"
  }
 },
 "nbformat": 4,
 "nbformat_minor": 5
}
