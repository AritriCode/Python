{
 "cells": [
  {
   "cell_type": "markdown",
   "id": "b1ee6d79-fe75-4dcd-9731-bbc7c900ad7c",
   "metadata": {},
   "source": [
    "1)"
   ]
  },
  {
   "cell_type": "code",
   "execution_count": 1,
   "id": "f18cc8fc-0d3e-4be8-bd1f-103599c9a07a",
   "metadata": {},
   "outputs": [
    {
     "name": "stdout",
     "output_type": "stream",
     "text": [
      "sorted list:  [('Virat Kohli', 24936), ('Jack Kallis', 25534), ('Ricky Ponting', 27483), ('Sachin Tendulkar', 34357)]\n"
     ]
    }
   ],
   "source": [
    "cric=[('Sachin Tendulkar', 34357), ('Ricky Ponting', 27483), ('Jack Kallis', 25534), ('Virat Kohli', 24936)]\n",
    "newList = sorted(cric, key = lambda x : x[1])\n",
    "print(\"sorted list: \",newList)"
   ]
  },
  {
   "cell_type": "markdown",
   "id": "b867db0b-1178-4c04-bbd1-bc1f37ad0e5a",
   "metadata": {},
   "source": [
    "2)"
   ]
  },
  {
   "cell_type": "code",
   "execution_count": 2,
   "id": "bd990193-0b3e-4db7-94b6-8564a3e4dadf",
   "metadata": {},
   "outputs": [
    {
     "name": "stdout",
     "output_type": "stream",
     "text": [
      "[1, 4, 9, 16, 25, 36, 49, 64, 81, 100]\n"
     ]
    }
   ],
   "source": [
    "nums = [1, 2, 3, 4, 5, 6, 7, 8, 9, 10]\n",
    "square_nums = list(map(lambda x: x ** 2, nums))\n",
    "print(square_nums)"
   ]
  },
  {
   "cell_type": "markdown",
   "id": "8848d845-f41d-4391-9d2f-fcc5ce09874e",
   "metadata": {},
   "source": [
    "3)"
   ]
  },
  {
   "cell_type": "code",
   "execution_count": 5,
   "id": "6169b2e0-5459-4ec8-9b2a-60e98fb8b073",
   "metadata": {},
   "outputs": [
    {
     "name": "stdout",
     "output_type": "stream",
     "text": [
      "('1', '2', '3', '4', '5', '6', '7', '8', '9', '10')\n"
     ]
    }
   ],
   "source": [
    "nums_list = [1,2,3,4,5,6,7,8,9,10]\n",
    "result_tup = tuple(map(str,nums_list))\n",
    "print(result_tup)"
   ]
  },
  {
   "cell_type": "markdown",
   "id": "052ea784-8df5-4762-93a1-c2d63e2a0bd8",
   "metadata": {},
   "source": [
    "4)"
   ]
  },
  {
   "cell_type": "code",
   "execution_count": 7,
   "id": "e56b3781-522b-496b-9e22-079550000b98",
   "metadata": {},
   "outputs": [
    {
     "name": "stdout",
     "output_type": "stream",
     "text": [
      "15511210043330985984000000\n"
     ]
    }
   ],
   "source": [
    "import functools\n",
    "lst = list(range(1,26))\n",
    "print(functools.reduce(lambda a, b: a*b, lst))"
   ]
  },
  {
   "cell_type": "markdown",
   "id": "52be2b6e-b59c-4f44-8318-ff3ff3032a85",
   "metadata": {},
   "source": [
    "5)"
   ]
  },
  {
   "cell_type": "code",
   "execution_count": 10,
   "id": "c39a9bf6-7e49-4fa0-a2a0-fc74a50ea80b",
   "metadata": {},
   "outputs": [
    {
     "name": "stdout",
     "output_type": "stream",
     "text": [
      "[6, 60, 90, 120]\n"
     ]
    }
   ],
   "source": [
    "num_list=[2, 3, 6, 9, 27, 60, 90, 120, 55, 46]\n",
    "result = list(filter(lambda x: (x % 3 == 0 and x%2 == 0), num_list))\n",
    "print(result)"
   ]
  },
  {
   "cell_type": "markdown",
   "id": "9e845334-91f2-40c4-9319-ea33c333f310",
   "metadata": {},
   "source": [
    "6)"
   ]
  },
  {
   "cell_type": "code",
   "execution_count": null,
   "id": "d0714c2c-0e25-43a3-905e-3ea53e772c67",
   "metadata": {},
   "outputs": [],
   "source": []
  }
 ],
 "metadata": {
  "kernelspec": {
   "display_name": "Python 3 (ipykernel)",
   "language": "python",
   "name": "python3"
  },
  "language_info": {
   "codemirror_mode": {
    "name": "ipython",
    "version": 3
   },
   "file_extension": ".py",
   "mimetype": "text/x-python",
   "name": "python",
   "nbconvert_exporter": "python",
   "pygments_lexer": "ipython3",
   "version": "3.10.8"
  }
 },
 "nbformat": 4,
 "nbformat_minor": 5
}
